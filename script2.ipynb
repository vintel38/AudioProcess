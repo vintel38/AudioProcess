{
 "cells": [
  {
   "cell_type": "code",
   "execution_count": 2,
   "metadata": {},
   "outputs": [],
   "source": [
    "import os \n",
    "from scipy.io import wavfile\n",
    "import pandas as pd \n",
    "import numpy as np\n",
    "from tqdm import tqdm\n",
    "from python_speech_features import mfcc, logfbank\n",
    "from tensorflow.keras.utils import to_categorical\n",
    "from sklearn.utils.class_weight import compute_class_weight\n",
    "from tensorflow.keras import Sequential\n",
    "from tensorflow.keras.layers import  Conv2D, LSTM, MaxPool2D, Dropout, Dense, Flatten, TimeDistributed"
   ]
  },
  {
   "cell_type": "code",
   "execution_count": 3,
   "metadata": {},
   "outputs": [],
   "source": [
    "df = pd.read_csv('instruments.csv')\n",
    "df.set_index('fname', inplace=True)"
   ]
  },
  {
   "cell_type": "code",
   "execution_count": 4,
   "metadata": {},
   "outputs": [],
   "source": [
    "for f in df.index:\n",
    "    rate, signal = wavfile.read('clean/'+f)\n",
    "    df.at[f,'length'] = signal.shape[0]/rate\n",
    "\n",
    "classes = list(np.unique(df.label))    # liste des classes disponibles pour les instruments\n",
    "class_dist = df.groupby(['label'])['length'].mean() # regroupe les signaux par instruments (label) \n",
    "# et donne la moyenne de la longueur de chaque signaux "
   ]
  },
  {
   "cell_type": "code",
   "execution_count": 5,
   "metadata": {},
   "outputs": [],
   "source": [
    "# each audio will be used 1/10 second \n",
    "# randomly sample the audio \n",
    "\n",
    "n_samples = 2 * int(df['length'].sum()/0.1)\n",
    "# total length of the data converted in the number of possible sample \n",
    "prob_dist = class_dist/class_dist.sum()   # densité de prop pour la prise de morceaux de signaux à utiliser par le CNN\n",
    "choices = np.random.choice(class_dist.index, p=prob_dist)  # choix de instruments aléatoire en tenant compte de la dist de prob"
   ]
  },
  {
   "cell_type": "code",
   "execution_count": 6,
   "metadata": {},
   "outputs": [],
   "source": [
    "# change coeff here and it changes it everywhere\n",
    "class Config:\n",
    "    def __init__(self, mode='conv', nfilt=26, nfeat=13, nfft=512, rate=16000):\n",
    "        self.mode=mode\n",
    "        self.nfilt=nfilt\n",
    "        self.nfft=nfft\n",
    "        self.nfeat=nfeat\n",
    "        self.rate=rate\n",
    "        self.step=int(rate/10)"
   ]
  },
  {
   "cell_type": "code",
   "execution_count": 7,
   "metadata": {},
   "outputs": [],
   "source": [
    "def build_rand_feat():\n",
    "    X = []\n",
    "    y = []\n",
    "    _min, _max = float('inf'), -float('inf')\n",
    "    for _ in tqdm(range(n_samples)):\n",
    "        rand_class = np.random.choice(class_dist.index, p=prob_dist) # choisit un instrument en tenant compte de la dist de prob\n",
    "        file = np.random.choice(df[df.label==rand_class].index) \n",
    "        # choisit aléatoirement un nom de fichier dont l'index correspond à l'instrument choisi précédemment \n",
    "        rate, wav = wavfile.read('clean/'+file)\n",
    "        # lit le fichier en question \n",
    "        label = df.at[file, 'label'] # recharge l'instrument du signal chargé \n",
    "        rand_index = np.random.randint(0, wav.shape[0]-config.step)\n",
    "        # un nombre aléatoire entre 0 et ... pour éviter de prendre un échantillon sur le bord du signal\n",
    "        sample = wav[rand_index:rand_index+config.step]\n",
    "        # prélève l'échantillon sur le signal\n",
    "        X_sample = mfcc(sample, rate, numcep=config.nfeat, nfilt=config.nfilt, nfft=config.nfft).T\n",
    "        # calcule les mfcc de l'échantillon\n",
    "        _min = min(np.amin(X_sample), _min)\n",
    "        _max = max(np.amax(X_sample), _max)\n",
    "        X.append(X_sample if config.mode == 'conv' else X_sample.T)\n",
    "        y.append(classes.index(label))\n",
    "        # ajoute le chiffre correspond à l'instrument de l'échantillon \n",
    "    X, y = np.array(X), np.array(y)\n",
    "    X = ( X - _min)/(_max - _min)\n",
    "    # normalize l'échantillon sur toutes les valeurs de min et max possible\n",
    "    if config.mode == 'conv':\n",
    "        X = X.reshape(X.shape[0], X.shape[1], X.shape[2], 1)\n",
    "    elif config.mode == 'time':\n",
    "        X = X.reshape(X.shape[0], X.shape[1], X.shape[2])\n",
    "    y = to_categorical(y, num_classes=10)\n",
    "    return X, y"
   ]
  },
  {
   "cell_type": "code",
   "execution_count": 8,
   "metadata": {},
   "outputs": [],
   "source": [
    "config = Config(mode='conv')"
   ]
  },
  {
   "cell_type": "code",
   "execution_count": 9,
   "metadata": {},
   "outputs": [],
   "source": [
    "def get_conv_model():\n",
    "    model = Sequential()\n",
    "    model.add(Conv2D(16, (3,3), activation='relu', strides=(1,1), padding='same', input_shape=input_shape))\n",
    "    model.add(Conv2D(32, (3,3), activation='relu', strides=(1,1), padding='same'))\n",
    "    model.add(Conv2D(64, (3,3), activation='relu', strides=(1,1), padding='same'))\n",
    "    model.add(Conv2D(128, (3,3), activation='relu', strides=(1,1), padding='same'))\n",
    "    model.add(MaxPool2D((2,2)))\n",
    "    model.add(Dropout(0.5))\n",
    "    model.add(Flatten())\n",
    "    model.add(Dense(128, activation='relu'))\n",
    "    model.add(Dense(64, activation='relu'))\n",
    "    model.add(Dense(10, activation='softmax'))\n",
    "    model.summary()\n",
    "    model.compile(loss='categorical_crossentropy', optimizer='adam', metrics=['accuracy'])\n",
    "    \n",
    "    return model"
   ]
  },
  {
   "cell_type": "code",
   "execution_count": 10,
   "metadata": {},
   "outputs": [],
   "source": [
    "def get_recurrent_model():\n",
    "    # shape of data for RNN is (n, time, feat)\n",
    "    model = Sequential()\n",
    "    model.add(LSTM(128, return_sequences=True, input_shape=input_shape))\n",
    "    model.add(LSTM(128, return_sequences=True))\n",
    "    model.add(Dropout(0.5))\n",
    "    model.add(TimeDistributed(Dense(64, activation='relu')))\n",
    "    model.add(TimeDistributed(Dense(32, activation='relu')))\n",
    "    model.add(TimeDistributed(Dense(16, activation='relu')))\n",
    "    model.add(TimeDistributed(Dense(8, activation='relu')))\n",
    "    model.add(Flatten())\n",
    "    model.add(Dense(10, activation='softmax'))\n",
    "    model.summary()\n",
    "    model.compile(loss='categorical_crossentropy', optimizer='adam', metrics=['accuracy'])\n",
    "    \n",
    "    return model"
   ]
  },
  {
   "cell_type": "code",
   "execution_count": 11,
   "metadata": {},
   "outputs": [
    {
     "name": "stderr",
     "output_type": "stream",
     "text": [
      "100%|███████████████████████████████████████████████████████████████████████████| 26410/26410 [01:29<00:00, 293.50it/s]\n"
     ]
    },
    {
     "name": "stdout",
     "output_type": "stream",
     "text": [
      "Model: \"sequential\"\n",
      "_________________________________________________________________\n",
      "Layer (type)                 Output Shape              Param #   \n",
      "=================================================================\n",
      "conv2d (Conv2D)              (None, 13, 9, 16)         160       \n",
      "_________________________________________________________________\n",
      "conv2d_1 (Conv2D)            (None, 13, 9, 32)         4640      \n",
      "_________________________________________________________________\n",
      "conv2d_2 (Conv2D)            (None, 13, 9, 64)         18496     \n",
      "_________________________________________________________________\n",
      "conv2d_3 (Conv2D)            (None, 13, 9, 128)        73856     \n",
      "_________________________________________________________________\n",
      "max_pooling2d (MaxPooling2D) (None, 6, 4, 128)         0         \n",
      "_________________________________________________________________\n",
      "dropout (Dropout)            (None, 6, 4, 128)         0         \n",
      "_________________________________________________________________\n",
      "flatten (Flatten)            (None, 3072)              0         \n",
      "_________________________________________________________________\n",
      "dense (Dense)                (None, 128)               393344    \n",
      "_________________________________________________________________\n",
      "dense_1 (Dense)              (None, 64)                8256      \n",
      "_________________________________________________________________\n",
      "dense_2 (Dense)              (None, 10)                650       \n",
      "=================================================================\n",
      "Total params: 499,402\n",
      "Trainable params: 499,402\n",
      "Non-trainable params: 0\n",
      "_________________________________________________________________\n"
     ]
    }
   ],
   "source": [
    "if config.mode == 'conv':\n",
    "    X, y = build_rand_feat()\n",
    "    y_flat = np.argmax(y, axis=1)\n",
    "    input_shape = (X.shape[1], X.shape[2], 1)\n",
    "    model = get_conv_model()\n",
    "    \n",
    "elif config.mode =='time':\n",
    "    X,y = build_rand_feat()\n",
    "    y_flat = np.argmax(y, axis=1)\n",
    "    input_shape = (X.shape[1], X.shape[2])\n",
    "    model = get_recurrent_model()"
   ]
  },
  {
   "cell_type": "code",
   "execution_count": 12,
   "metadata": {},
   "outputs": [
    {
     "name": "stdout",
     "output_type": "stream",
     "text": [
      "Train on 26410 samples\n",
      "Epoch 1/10"
     ]
    },
    {
     "name": "stderr",
     "output_type": "stream",
     "text": [
      "C:\\Users\\VArri\\anaconda3\\envs\\tf_cpu\\lib\\site-packages\\sklearn\\utils\\validation.py:70: FutureWarning: Pass classes=[0 1 2 3 4 5 6 7 8 9], y=[9 5 7 ... 0 9 3] as keyword args. From version 0.25 passing these as positional arguments will result in an error\n",
      "  FutureWarning)\n"
     ]
    },
    {
     "name": "stdout",
     "output_type": "stream",
     "text": [
      "\n",
      "26410/26410 [==============================] - 47s 2ms/sample - loss: 0.9829 - accuracy: 0.6468\n",
      "Epoch 2/10\n",
      "26410/26410 [==============================] - 49s 2ms/sample - loss: 0.4669 - accuracy: 0.8364\n",
      "Epoch 3/10\n",
      "26410/26410 [==============================] - 43s 2ms/sample - loss: 0.3340 - accuracy: 0.8849\n",
      "Epoch 4/10\n",
      "26410/26410 [==============================] - 41s 2ms/sample - loss: 0.2670 - accuracy: 0.9067\n",
      "Epoch 5/10\n",
      "26410/26410 [==============================] - 41s 2ms/sample - loss: 0.2155 - accuracy: 0.9243\n",
      "Epoch 6/10\n",
      "26410/26410 [==============================] - 41s 2ms/sample - loss: 0.1946 - accuracy: 0.9338\n",
      "Epoch 7/10\n",
      "26410/26410 [==============================] - 40s 2ms/sample - loss: 0.1743 - accuracy: 0.9402\n",
      "Epoch 8/10\n",
      "26410/26410 [==============================] - 42s 2ms/sample - loss: 0.1560 - accuracy: 0.9466\n",
      "Epoch 9/10\n",
      "26410/26410 [==============================] - 44s 2ms/sample - loss: 0.1398 - accuracy: 0.9513\n",
      "Epoch 10/10\n",
      "26410/26410 [==============================] - 45s 2ms/sample - loss: 0.1347 - accuracy: 0.9529\n"
     ]
    },
    {
     "data": {
      "text/plain": [
       "<tensorflow.python.keras.callbacks.History at 0x192a8d0a438>"
      ]
     },
     "execution_count": 12,
     "metadata": {},
     "output_type": "execute_result"
    }
   ],
   "source": [
    "class_weight = compute_class_weight('balanced', np.unique(y_flat), y_flat)\n",
    "# le gradient descent va être effectué en prenant en compte la distribution des instruments pour que aucune direction ne soit \n",
    "# privilégiée étant donné que certaines produiront plus d'infos que d'autres\n",
    "model.fit(X, y, epochs=10, batch_size=32, shuffle=True, class_weight=class_weight)"
   ]
  },
  {
   "cell_type": "code",
   "execution_count": null,
   "metadata": {},
   "outputs": [],
   "source": []
  }
 ],
 "metadata": {
  "kernelspec": {
   "display_name": "Python 3",
   "language": "python",
   "name": "python3"
  },
  "language_info": {
   "codemirror_mode": {
    "name": "ipython",
    "version": 3
   },
   "file_extension": ".py",
   "mimetype": "text/x-python",
   "name": "python",
   "nbconvert_exporter": "python",
   "pygments_lexer": "ipython3",
   "version": "3.6.12"
  }
 },
 "nbformat": 4,
 "nbformat_minor": 4
}
